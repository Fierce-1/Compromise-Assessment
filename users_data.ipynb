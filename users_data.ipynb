{
 "cells": [
  {
   "cell_type": "code",
   "execution_count": 21,
   "metadata": {
    "collapsed": true,
    "pycharm": {
     "name": "#%%\n"
    }
   },
   "outputs": [],
   "source": [
    "import pandas as pd\n",
    "import csv\n"
   ]
  },
  {
   "cell_type": "code",
   "execution_count": 12,
   "outputs": [
    {
     "name": "stderr",
     "output_type": "stream",
     "text": [
      "C:\\Users\\hesha\\IdeaProjects\\Compromise Assessment\\venv\\lib\\site-packages\\pandas\\core\\frame.py:4913: SettingWithCopyWarning: \n",
      "A value is trying to be set on a copy of a slice from a DataFrame\n",
      "\n",
      "See the caveats in the documentation: https://pandas.pydata.org/pandas-docs/stable/user_guide/indexing.html#returning-a-view-versus-a-copy\n",
      "  errors=errors,\n"
     ]
    },
    {
     "name": "stdout",
     "output_type": "stream",
     "text": [
      "          LogName                            SourceName  EventCode  EventType  \\\n",
      "1499999  Security  Microsoft Windows security auditing.       4688          0   \n",
      "1499998  Security  Microsoft Windows security auditing.       4703          0   \n",
      "1499997  Security  Microsoft Windows security auditing.       4703          0   \n",
      "1499996  Security  Microsoft Windows security auditing.       4703          0   \n",
      "1499995  Security  Microsoft Windows security auditing.       4688          0   \n",
      "...           ...                                   ...        ...        ...   \n",
      "4        Security  Microsoft Windows security auditing.       4624          0   \n",
      "3        Security  Microsoft Windows security auditing.       4688          0   \n",
      "2        Security  Microsoft Windows security auditing.       4703          0   \n",
      "1        Security  Microsoft Windows security auditing.       4688          0   \n",
      "0        Security  Microsoft Windows security auditing.       4703          0   \n",
      "\n",
      "                Type                  ComputerName  \\\n",
      "1499999  Information  we7422srv.waynecorpinc.local   \n",
      "1499998  Information  we4651srv.waynecorpinc.local   \n",
      "1499997  Information  we2024srv.waynecorpinc.local   \n",
      "1499996  Information  we1199srv.waynecorpinc.local   \n",
      "1499995  Information  we8969srv.waynecorpinc.local   \n",
      "...              ...                           ...   \n",
      "4        Information  we3614srv.waynecorpinc.local   \n",
      "3        Information  we6915srv.waynecorpinc.local   \n",
      "2        Information  we8882srv.waynecorpinc.local   \n",
      "1        Information  we6439srv.waynecorpinc.local   \n",
      "0        Information  we1775srv.waynecorpinc.local   \n",
      "\n",
      "                        TaskCategory OpCode  RecordNumber       Keywords  ...  \\\n",
      "1499999             Process Creation   Info        511092  Audit Success  ...   \n",
      "1499998  Authorization Policy Change   Info        537664  Audit Success  ...   \n",
      "1499997  Authorization Policy Change   Info        533238  Audit Success  ...   \n",
      "1499996  Authorization Policy Change   Info        534585  Audit Success  ...   \n",
      "1499995             Process Creation   Info         20914  Audit Success  ...   \n",
      "...                              ...    ...           ...            ...  ...   \n",
      "4                              Logon   Info         44608  Audit Success  ...   \n",
      "3                   Process Creation   Info         45181  Audit Success  ...   \n",
      "2        Authorization Policy Change   Info        527591  Audit Success  ...   \n",
      "1                   Process Creation   Info         16128  Audit Success  ...   \n",
      "0        Authorization Policy Change   Info        516329  Audit Success  ...   \n",
      "\n",
      "        Network Account Name Network Account Domain Group Name Group Domain  \\\n",
      "1499999                  NaN                    NaN        NaN          NaN   \n",
      "1499998                  NaN                    NaN        NaN          NaN   \n",
      "1499997                  NaN                    NaN        NaN          NaN   \n",
      "1499996                  NaN                    NaN        NaN          NaN   \n",
      "1499995                  NaN                    NaN        NaN          NaN   \n",
      "...                      ...                    ...        ...          ...   \n",
      "4                        NaN                    NaN        NaN          NaN   \n",
      "3                        NaN                    NaN        NaN          NaN   \n",
      "2                        NaN                    NaN        NaN          NaN   \n",
      "1                        NaN                    NaN        NaN          NaN   \n",
      "0                        NaN                    NaN        NaN          NaN   \n",
      "\n",
      "        Session ID Name Previous Time New Time                     datetime  \\\n",
      "1499999        NaN  NaN           NaN      NaN  2016-08-25 18:42:53.000 MDT   \n",
      "1499998        NaN  NaN           NaN      NaN  2016-08-25 18:42:53.000 MDT   \n",
      "1499997        NaN  NaN           NaN      NaN  2016-08-25 18:42:53.000 MDT   \n",
      "1499996        NaN  NaN           NaN      NaN  2016-08-25 18:42:53.000 MDT   \n",
      "1499995        NaN  NaN           NaN      NaN  2016-08-25 18:42:53.000 MDT   \n",
      "...            ...  ...           ...      ...                          ...   \n",
      "4              NaN  NaN           NaN      NaN  2016-08-28 17:59:00.000 MDT   \n",
      "3              NaN  NaN           NaN      NaN  2016-08-28 17:59:00.000 MDT   \n",
      "2              NaN  NaN           NaN      NaN  2016-08-28 17:59:00.000 MDT   \n",
      "1              NaN  NaN           NaN      NaN  2016-08-28 17:59:00.000 MDT   \n",
      "0              NaN  NaN           NaN      NaN  2016-08-28 17:59:00.000 MDT   \n",
      "\n",
      "                                                       raw  \n",
      "1499999  08/26/2016 00:42:53 AM\\nLogName=Security\\nSour...  \n",
      "1499998  08/26/2016 00:42:53 AM\\nLogName=Security\\nSour...  \n",
      "1499997  08/26/2016 00:42:53 AM\\nLogName=Security\\nSour...  \n",
      "1499996  08/26/2016 00:42:53 AM\\nLogName=Security\\nSour...  \n",
      "1499995  08/26/2016 00:42:53 AM\\nLogName=Security\\nSour...  \n",
      "...                                                    ...  \n",
      "4        08/28/2016 23:59:00 PM\\nLogName=Security\\nSour...  \n",
      "3        08/28/2016 23:59:00 PM\\nLogName=Security\\nSour...  \n",
      "2        08/28/2016 23:59:00 PM\\nLogName=Security\\nSour...  \n",
      "1        08/28/2016 23:59:00 PM\\nLogName=Security\\nSour...  \n",
      "0        08/28/2016 23:59:00 PM\\nLogName=Security\\nSour...  \n",
      "\n",
      "[1500000 rows x 86 columns]\n"
     ]
    }
   ],
   "source": [
    "df = pd.read_csv('final_df.csv', low_memory=False)\n",
    "\n",
    "data_reverse = df.iloc[::-1]\n",
    "data_reverse.drop(['Unnamed: 0', 'Unnamed: 0.1'], axis = 1, inplace = True)\n",
    "print(data_reverse)\n",
    "\n",
    "data_reverse.to_csv('Reverse_Final_df.csv', index = False, encoding='utf-8')\n"
   ],
   "metadata": {
    "collapsed": false,
    "pycharm": {
     "name": "#%%\n"
    }
   }
  },
  {
   "cell_type": "code",
   "execution_count": 25,
   "outputs": [
    {
     "name": "stdout",
     "output_type": "stream",
     "text": [
      "1\n"
     ]
    }
   ],
   "source": [
    "df = pd.read_csv('Reverse_Final_df.csv', low_memory=False)\n",
    "users = df['Account Name'].unique()\n",
    "diction = {}\n",
    "cat = df['TaskCategory'].unique()\n",
    "for user in users:\n",
    "    diction[user] = {'time': [], cat[0]: [], cat[1]: [], cat[2]: [], cat[3]: [], cat[4]: [], cat[5]: [], cat[6]: [], cat[7]: [], cat[8]: [], cat[9]: [], cat[10]: [], cat[11]: [], cat[12]: [], cat[13]: [], cat[14]: [], cat[15]: []}\n",
    "\n",
    "\n",
    "with open('Reverse_Final_df.csv') as file_obj:\n",
    "    reader_obj = csv.reader(file_obj)\n",
    "    for row in reader_obj:\n",
    "        if row[12] in diction:\n",
    "            diction[row[12]]['time'].append(row[84])\n",
    "            add = row[6]\n",
    "            for val in diction[row[12]]:\n",
    "                if val == add:\n",
    "                    diction[row[12]][val].append(1)\n",
    "                elif val != 'time':\n",
    "                    diction[row[12]][val].append(0)\n",
    "\n",
    "\n"
   ],
   "metadata": {
    "collapsed": false,
    "pycharm": {
     "name": "#%%\n"
    }
   }
  },
  {
   "cell_type": "code",
   "execution_count": 26,
   "outputs": [],
   "source": [
    "for user1 in diction:\n",
    "    df = pd.DataFrame(diction[user1])\n",
    "    df.to_csv('./users/' + user1 + '.csv')\n"
   ],
   "metadata": {
    "collapsed": false,
    "pycharm": {
     "name": "#%%\n"
    }
   }
  },
  {
   "cell_type": "code",
   "execution_count": null,
   "outputs": [],
   "source": [],
   "metadata": {
    "collapsed": false,
    "pycharm": {
     "name": "#%%\n"
    }
   }
  }
 ],
 "metadata": {
  "kernelspec": {
   "display_name": "Python 3",
   "language": "python",
   "name": "python3"
  },
  "language_info": {
   "codemirror_mode": {
    "name": "ipython",
    "version": 2
   },
   "file_extension": ".py",
   "mimetype": "text/x-python",
   "name": "python",
   "nbconvert_exporter": "python",
   "pygments_lexer": "ipython2",
   "version": "2.7.6"
  }
 },
 "nbformat": 4,
 "nbformat_minor": 0
}